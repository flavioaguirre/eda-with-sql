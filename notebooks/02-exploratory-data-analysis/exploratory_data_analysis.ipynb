{
 "cells": [
  {
   "cell_type": "markdown",
   "id": "9af5758c",
   "metadata": {},
   "source": [
    "<p style=\"text-align:center\"> \n",
    "    <a href=\"https://www.linkedin.com/in/flavio-aguirre-12784a252/\" target=\"_blank\"> \n",
    "    <img src=\"../../assets/logo.png\" width=\"200\" alt=\"Flavio Aguirre Logo\"> \n",
    "    </a>\n",
    "</p>\n",
    "\n",
    "# <h1 align=\"center\"><font size=\"7\"><strong>EDA with SQL</strong></font></h1>\n",
    "<hr>"
   ]
  },
  {
   "cell_type": "markdown",
   "id": "4c707cf2",
   "metadata": {},
   "source": [
    "## Let's start by importing the necessary libraries"
   ]
  },
  {
   "cell_type": "code",
   "execution_count": 2,
   "id": "bc96fcaf",
   "metadata": {},
   "outputs": [],
   "source": [
    "import sqlite3\n",
    "import prettytable\n",
    "\n",
    "prettytable.DEFAULT = 'DEFAULT'\n",
    "\n",
    "import warnings\n",
    "warnings.filterwarnings(\"ignore\")"
   ]
  },
  {
   "cell_type": "code",
   "execution_count": 5,
   "id": "7163edc4",
   "metadata": {},
   "outputs": [],
   "source": [
    "# Load the SQL extension for Jupyter Notebook\n",
    "%load_ext sql"
   ]
  },
  {
   "cell_type": "markdown",
   "id": "c5f3817e",
   "metadata": {},
   "source": [
    "## We connect to our database"
   ]
  },
  {
   "cell_type": "code",
   "execution_count": 3,
   "id": "7846767f",
   "metadata": {},
   "outputs": [
    {
     "name": "stdout",
     "output_type": "stream",
     "text": [
      "✅ Connection successful\n"
     ]
    }
   ],
   "source": [
    "try: \n",
    "    conn = sqlite3.connect(\"../../database/chicago_data.db\") \n",
    "    print(\"✅ Connection successful\") \n",
    "except Exception as e: \n",
    "        print(f\"❌ Error connecting:{e}\")"
   ]
  },
  {
   "cell_type": "markdown",
   "id": "ead50a52",
   "metadata": {},
   "source": [
    "We establish a connection between the `Magic SQL` module and the `chicago_data.db` database."
   ]
  },
  {
   "cell_type": "code",
   "execution_count": 6,
   "id": "a9cb77ae",
   "metadata": {},
   "outputs": [],
   "source": [
    "%sql sqlite:///../../database/chicago_data.db"
   ]
  },
  {
   "cell_type": "markdown",
   "id": "3fa33e7b",
   "metadata": {},
   "source": [
    "Let's start this analysis with the total number of crimes recorded in the city of Chicago."
   ]
  },
  {
   "cell_type": "code",
   "execution_count": null,
   "id": "126f5a03",
   "metadata": {},
   "outputs": [
    {
     "name": "stdout",
     "output_type": "stream",
     "text": [
      " * sqlite:///../../database/chicago_data.db\n",
      "Done.\n"
     ]
    },
    {
     "data": {
      "text/html": [
       "<table>\n",
       "    <thead>\n",
       "        <tr>\n",
       "            <th>total_crimes</th>\n",
       "        </tr>\n",
       "    </thead>\n",
       "    <tbody>\n",
       "        <tr>\n",
       "            <td>533</td>\n",
       "        </tr>\n",
       "    </tbody>\n",
       "</table>"
      ],
      "text/plain": [
       "[(533,)]"
      ]
     },
     "execution_count": 12,
     "metadata": {},
     "output_type": "execute_result"
    }
   ],
   "source": [
    "# The total number of crimes can be understood as the number of records in the chicago_crime_data table.\n",
    "%%sql \n",
    "SELECT COUNT(*) AS total_crimes \n",
    "FROM chicago_crime_data"
   ]
  },
  {
   "cell_type": "markdown",
   "id": "5223ce6c",
   "metadata": {},
   "source": [
    "If we wanted to see the average number of crimes per year we can use the following subquery"
   ]
  },
  {
   "cell_type": "code",
   "execution_count": null,
   "id": "1dfee19a",
   "metadata": {},
   "outputs": [
    {
     "name": "stdout",
     "output_type": "stream",
     "text": [
      " * sqlite:///../../database/chicago_data.db\n",
      "Done.\n"
     ]
    },
    {
     "data": {
      "text/html": [
       "<table>\n",
       "    <thead>\n",
       "        <tr>\n",
       "            <th>average_crimes_per_year</th>\n",
       "        </tr>\n",
       "    </thead>\n",
       "    <tbody>\n",
       "        <tr>\n",
       "            <td>29.61111111111111</td>\n",
       "        </tr>\n",
       "    </tbody>\n",
       "</table>"
      ],
      "text/plain": [
       "[(29.61111111111111,)]"
      ]
     },
     "execution_count": 13,
     "metadata": {},
     "output_type": "execute_result"
    }
   ],
   "source": [
    "%%sql\n",
    "SELECT AVG(crimes_per_year) AS average_crimes_per_year\n",
    "FROM (\n",
    "    SELECT \n",
    "    strftime('%Y', date) AS year, \n",
    "    COUNT(*) AS crimes_per_year\n",
    "    FROM chicago_crime_data\n",
    "    GROUP BY year\n",
    ") AS yearly_totals;"
   ]
  },
  {
   "cell_type": "markdown",
   "id": "02aa294f",
   "metadata": {},
   "source": [
    "It is worth mentioning that the data is truncated and that is why the percentage is so small for such a large city that generally has a recorded average of 500,000 crimes per year."
   ]
  },
  {
   "cell_type": "markdown",
   "id": "1b2f6c6a",
   "metadata": {},
   "source": [
    "<br>"
   ]
  },
  {
   "cell_type": "markdown",
   "id": "78770497",
   "metadata": {},
   "source": [
    "We understand that the crime rate is due to the poverty rate in the city, so let's look at the names and numbers of the community areas with a per capita income of less than $11,000 per year."
   ]
  },
  {
   "cell_type": "code",
   "execution_count": 15,
   "id": "26745526",
   "metadata": {},
   "outputs": [
    {
     "name": "stdout",
     "output_type": "stream",
     "text": [
      " * sqlite:///../../database/chicago_data.db\n",
      "Done.\n"
     ]
    },
    {
     "data": {
      "text/html": [
       "<table>\n",
       "    <thead>\n",
       "        <tr>\n",
       "            <th>community_name</th>\n",
       "            <th>area_number</th>\n",
       "            <th>per_capita_income</th>\n",
       "        </tr>\n",
       "    </thead>\n",
       "    <tbody>\n",
       "        <tr>\n",
       "            <td>West Garfield Park</td>\n",
       "            <td>26.0</td>\n",
       "            <td>10934</td>\n",
       "        </tr>\n",
       "        <tr>\n",
       "            <td>South Lawndale</td>\n",
       "            <td>30.0</td>\n",
       "            <td>10402</td>\n",
       "        </tr>\n",
       "        <tr>\n",
       "            <td>Fuller Park</td>\n",
       "            <td>37.0</td>\n",
       "            <td>10432</td>\n",
       "        </tr>\n",
       "        <tr>\n",
       "            <td>Riverdale</td>\n",
       "            <td>54.0</td>\n",
       "            <td>8201</td>\n",
       "        </tr>\n",
       "    </tbody>\n",
       "</table>"
      ],
      "text/plain": [
       "[('West Garfield Park', 26.0, 10934),\n",
       " ('South Lawndale', 30.0, 10402),\n",
       " ('Fuller Park', 37.0, 10432),\n",
       " ('Riverdale', 54.0, 8201)]"
      ]
     },
     "execution_count": 15,
     "metadata": {},
     "output_type": "execute_result"
    }
   ],
   "source": [
    "%%sql\n",
    "SELECT\n",
    "community_area_name AS community_name,\n",
    "community_area_number AS area_number,\n",
    "per_capita_income AS per_capita_income\n",
    "FROM chicago_socioeconomic_data\n",
    "WHERE per_capita_income < 11000"
   ]
  },
  {
   "cell_type": "markdown",
   "id": "9a202dbd",
   "metadata": {},
   "source": [
    "### Let's see how these crimes relate to young people."
   ]
  },
  {
   "cell_type": "markdown",
   "id": "8bf10aea",
   "metadata": {},
   "source": [
    "Let's look at all the case numbers for crimes involving juveniles (children are not considered minors for the purposes of crime analysis)."
   ]
  },
  {
   "cell_type": "code",
   "execution_count": null,
   "id": "6593bf60",
   "metadata": {},
   "outputs": [
    {
     "name": "stdout",
     "output_type": "stream",
     "text": [
      " * sqlite:///../../database/chicago_data.db\n",
      "Done.\n"
     ]
    },
    {
     "data": {
      "text/html": [
       "<table>\n",
       "    <thead>\n",
       "        <tr>\n",
       "            <th>CASE_NUMBER</th>\n",
       "        </tr>\n",
       "    </thead>\n",
       "    <tbody>\n",
       "        <tr>\n",
       "            <td>HL266884</td>\n",
       "        </tr>\n",
       "        <tr>\n",
       "            <td>HK238408</td>\n",
       "        </tr>\n",
       "    </tbody>\n",
       "</table>"
      ],
      "text/plain": [
       "[('HL266884',), ('HK238408',)]"
      ]
     },
     "execution_count": 16,
     "metadata": {},
     "output_type": "execute_result"
    }
   ],
   "source": [
    "%%sql \n",
    "SELECT case_number \n",
    "FROM chicago_crime_data\n",
    "WHERE description LIKE '%MINOR%'"
   ]
  },
  {
   "cell_type": "markdown",
   "id": "7ab5043e",
   "metadata": {},
   "source": [
    "All kidnapping crimes involving a child."
   ]
  },
  {
   "cell_type": "code",
   "execution_count": 18,
   "id": "ce141d48",
   "metadata": {},
   "outputs": [
    {
     "name": "stdout",
     "output_type": "stream",
     "text": [
      " * sqlite:///../../database/chicago_data.db\n",
      "Done.\n"
     ]
    },
    {
     "data": {
      "text/html": [
       "<table>\n",
       "    <thead>\n",
       "        <tr>\n",
       "            <th>CASE_NUMBER</th>\n",
       "        </tr>\n",
       "    </thead>\n",
       "    <tbody>\n",
       "        <tr>\n",
       "            <td>HN144152</td>\n",
       "        </tr>\n",
       "    </tbody>\n",
       "</table>"
      ],
      "text/plain": [
       "[('HN144152',)]"
      ]
     },
     "execution_count": 18,
     "metadata": {},
     "output_type": "execute_result"
    }
   ],
   "source": [
    "%%sql \n",
    "SELECT case_number \n",
    "FROM chicago_crime_data\n",
    "WHERE primary_type = 'KIDNAPPING' AND description LIKE '%CHILD%'"
   ]
  },
  {
   "cell_type": "markdown",
   "id": "36e39409",
   "metadata": {},
   "source": [
    "The types of crimes reported in schools. (No repetition)"
   ]
  },
  {
   "cell_type": "code",
   "execution_count": 19,
   "id": "7226412b",
   "metadata": {},
   "outputs": [
    {
     "name": "stdout",
     "output_type": "stream",
     "text": [
      " * sqlite:///../../database/chicago_data.db\n",
      "Done.\n"
     ]
    },
    {
     "data": {
      "text/html": [
       "<table>\n",
       "    <thead>\n",
       "        <tr>\n",
       "            <th>crime_type</th>\n",
       "        </tr>\n",
       "    </thead>\n",
       "    <tbody>\n",
       "        <tr>\n",
       "            <td>BATTERY</td>\n",
       "        </tr>\n",
       "        <tr>\n",
       "            <td>CRIMINAL DAMAGE</td>\n",
       "        </tr>\n",
       "        <tr>\n",
       "            <td>NARCOTICS</td>\n",
       "        </tr>\n",
       "        <tr>\n",
       "            <td>ASSAULT</td>\n",
       "        </tr>\n",
       "        <tr>\n",
       "            <td>CRIMINAL TRESPASS</td>\n",
       "        </tr>\n",
       "        <tr>\n",
       "            <td>PUBLIC PEACE VIOLATION</td>\n",
       "        </tr>\n",
       "    </tbody>\n",
       "</table>"
      ],
      "text/plain": [
       "[('BATTERY',),\n",
       " ('CRIMINAL DAMAGE',),\n",
       " ('NARCOTICS',),\n",
       " ('ASSAULT',),\n",
       " ('CRIMINAL TRESPASS',),\n",
       " ('PUBLIC PEACE VIOLATION',)]"
      ]
     },
     "execution_count": 19,
     "metadata": {},
     "output_type": "execute_result"
    }
   ],
   "source": [
    "%%sql\n",
    "SELECT DISTINCT primary_type AS crime_type \n",
    "FROM chicago_crime_data\n",
    "WHERE location_description LIKE'%SCHOOL%'"
   ]
  },
  {
   "cell_type": "markdown",
   "id": "5fd301fa",
   "metadata": {},
   "source": [
    "Let's see how well schools are prepared for these types of situations. We list the types of schools along with the average safety score for each type."
   ]
  },
  {
   "cell_type": "code",
   "execution_count": null,
   "id": "ddb2cc95",
   "metadata": {},
   "outputs": [
    {
     "name": "stdout",
     "output_type": "stream",
     "text": [
      " * sqlite:///../../database/chicago_data.db\n",
      "Done.\n"
     ]
    },
    {
     "data": {
      "text/plain": [
       "[]"
      ]
     },
     "execution_count": 28,
     "metadata": {},
     "output_type": "execute_result"
    }
   ],
   "source": [
    "%%sql\n",
    "# We renamed the column 'Elementary, Middle, or High School' to avoid conflicts with SQL syntax\n",
    "ALTER TABLE chicago_public_schools_data\n",
    "RENAME COLUMN 'Elementary, Middle, or High School' TO elementary_middle_or_high_school;"
   ]
  },
  {
   "cell_type": "code",
   "execution_count": 29,
   "id": "cdb8d279",
   "metadata": {},
   "outputs": [
    {
     "name": "stdout",
     "output_type": "stream",
     "text": [
      " * sqlite:///../../database/chicago_data.db\n",
      "Done.\n"
     ]
    },
    {
     "data": {
      "text/html": [
       "<table>\n",
       "    <thead>\n",
       "        <tr>\n",
       "            <th>school_type</th>\n",
       "            <th>Score_Safety_average_by_school_type</th>\n",
       "        </tr>\n",
       "    </thead>\n",
       "    <tbody>\n",
       "        <tr>\n",
       "            <td>ES</td>\n",
       "            <td>49.52038369304557</td>\n",
       "        </tr>\n",
       "        <tr>\n",
       "            <td>HS</td>\n",
       "            <td>49.62352941176471</td>\n",
       "        </tr>\n",
       "        <tr>\n",
       "            <td>MS</td>\n",
       "            <td>48.0</td>\n",
       "        </tr>\n",
       "    </tbody>\n",
       "</table>"
      ],
      "text/plain": [
       "[('ES', 49.52038369304557), ('HS', 49.62352941176471), ('MS', 48.0)]"
      ]
     },
     "execution_count": 29,
     "metadata": {},
     "output_type": "execute_result"
    }
   ],
   "source": [
    "%%sql\n",
    "SELECT \n",
    "DISTINCT elementary_middle_or_high_school AS school_type, \n",
    "AVG(safety_score) AS Score_Safety_average_by_school_type\n",
    "FROM chicago_public_schools_data\n",
    "WHERE elementary_middle_or_high_school IN ('ES','HS','MS')\n",
    "GROUP BY elementary_middle_or_high_school\n",
    "ORDER BY elementary_middle_or_high_school"
   ]
  },
  {
   "cell_type": "markdown",
   "id": "0ad73fca",
   "metadata": {},
   "source": [
    "We see that these scores are alarmingly low."
   ]
  },
  {
   "cell_type": "markdown",
   "id": "746dda7a",
   "metadata": {},
   "source": [
    "Let's look at the 5 community areas with the highest percentage of households below the poverty line."
   ]
  },
  {
   "cell_type": "code",
   "execution_count": 31,
   "id": "e49e15bc",
   "metadata": {},
   "outputs": [
    {
     "name": "stdout",
     "output_type": "stream",
     "text": [
      " * sqlite:///../../database/chicago_data.db\n",
      "Done.\n"
     ]
    },
    {
     "data": {
      "text/html": [
       "<table>\n",
       "    <thead>\n",
       "        <tr>\n",
       "            <th>COMMUNITY_AREA_NAME</th>\n",
       "            <th>PERCENT_HOUSEHOLDS_BELOW_POVERTY</th>\n",
       "        </tr>\n",
       "    </thead>\n",
       "    <tbody>\n",
       "        <tr>\n",
       "            <td>Riverdale</td>\n",
       "            <td>56.5</td>\n",
       "        </tr>\n",
       "        <tr>\n",
       "            <td>Fuller Park</td>\n",
       "            <td>51.2</td>\n",
       "        </tr>\n",
       "        <tr>\n",
       "            <td>Englewood</td>\n",
       "            <td>46.6</td>\n",
       "        </tr>\n",
       "        <tr>\n",
       "            <td>North Lawndale</td>\n",
       "            <td>43.1</td>\n",
       "        </tr>\n",
       "        <tr>\n",
       "            <td>East Garfield Park</td>\n",
       "            <td>42.4</td>\n",
       "        </tr>\n",
       "    </tbody>\n",
       "</table>"
      ],
      "text/plain": [
       "[('Riverdale', 56.5),\n",
       " ('Fuller Park', 51.2),\n",
       " ('Englewood', 46.6),\n",
       " ('North Lawndale', 43.1),\n",
       " ('East Garfield Park', 42.4)]"
      ]
     },
     "execution_count": 31,
     "metadata": {},
     "output_type": "execute_result"
    }
   ],
   "source": [
    "%%sql\n",
    "SELECT \n",
    "community_area_name,\n",
    "percent_households_below_poverty\n",
    "FROM chicago_socioeconomic_data\n",
    "ORDER BY percent_households_below_poverty DESC \n",
    "LIMIT 5"
   ]
  },
  {
   "cell_type": "markdown",
   "id": "0f4347d8",
   "metadata": {},
   "source": [
    "The truth is that observing how these communities have poverty rates of more than 50% is a source of discussion, as it reflects not only an alarming economic reality but also a profound social debt that challenges us as a society to promote more equitable, inclusive, and sustainable policies."
   ]
  },
  {
   "cell_type": "markdown",
   "id": "59da9a26",
   "metadata": {},
   "source": [
    "Considering this, which area of ​​the community is most prone to crime?"
   ]
  },
  {
   "cell_type": "code",
   "execution_count": 36,
   "id": "9614925a",
   "metadata": {},
   "outputs": [
    {
     "name": "stdout",
     "output_type": "stream",
     "text": [
      " * sqlite:///../../database/chicago_data.db\n",
      "Done.\n"
     ]
    },
    {
     "data": {
      "text/html": [
       "<table>\n",
       "    <thead>\n",
       "        <tr>\n",
       "            <th>COMMUNITY_AREA_NUMBER</th>\n",
       "            <th>COMMUNITY_AREA_NAME</th>\n",
       "            <th>number_crimes</th>\n",
       "        </tr>\n",
       "    </thead>\n",
       "    <tbody>\n",
       "        <tr>\n",
       "            <td>25.0</td>\n",
       "            <td>Austin</td>\n",
       "            <td>43</td>\n",
       "        </tr>\n",
       "    </tbody>\n",
       "</table>"
      ],
      "text/plain": [
       "[(25.0, 'Austin', 43)]"
      ]
     },
     "execution_count": 36,
     "metadata": {},
     "output_type": "execute_result"
    }
   ],
   "source": [
    "%%sql\n",
    "SELECT \n",
    "    c.community_area_number,\n",
    "    s.community_area_name,\n",
    "    COUNT(*) AS number_crimes\n",
    "FROM chicago_crime_data AS c\n",
    "JOIN chicago_socioeconomic_data AS s\n",
    "    ON c.community_area_number = s.community_area_number\n",
    "GROUP BY c.community_area_number, s.community_area_name\n",
    "ORDER BY number_crimes DESC\n",
    "LIMIT 1;\n"
   ]
  },
  {
   "cell_type": "markdown",
   "id": "d3f6b9c9",
   "metadata": {},
   "source": [
    "Let's see which community has the highest deprivation index or hardship index."
   ]
  },
  {
   "cell_type": "code",
   "execution_count": null,
   "id": "ce594d48",
   "metadata": {},
   "outputs": [
    {
     "name": "stdout",
     "output_type": "stream",
     "text": [
      " * sqlite:///../../database/chicago_data.db\n",
      "Done.\n"
     ]
    },
    {
     "data": {
      "text/html": [
       "<table>\n",
       "    <thead>\n",
       "        <tr>\n",
       "            <th>community_area</th>\n",
       "            <th>HARDSHIP_INDEX</th>\n",
       "        </tr>\n",
       "    </thead>\n",
       "    <tbody>\n",
       "        <tr>\n",
       "            <td>Riverdale</td>\n",
       "            <td>98.0</td>\n",
       "        </tr>\n",
       "    </tbody>\n",
       "</table>"
      ],
      "text/plain": [
       "[('Riverdale', 98.0)]"
      ]
     },
     "execution_count": 39,
     "metadata": {},
     "output_type": "execute_result"
    }
   ],
   "source": [
    "%%sql\n",
    "SELECT \n",
    "community_area_name AS community_area,\n",
    "hardship_index\n",
    "FROM chicago_socioeconomic_data\n",
    "WHERE hardship_index IN \n",
    "(SELECT MAX(hardship_index) FROM chicago_socioeconomic_data)"
   ]
  },
  {
   "cell_type": "markdown",
   "id": "c0ce6c80",
   "metadata": {},
   "source": [
    "The shortages this community is going through are simply brutal..."
   ]
  },
  {
   "cell_type": "markdown",
   "id": "12a1635c",
   "metadata": {},
   "source": [
    "We see then that Rivardale is the community with the highest deprivation index (we would say unsurpassed...) at 98%, while Austin is the area with the most recorded crimes, with a total of 43 crimes in our database."
   ]
  },
  {
   "cell_type": "markdown",
   "id": "8787bc96",
   "metadata": {},
   "source": [
    "This analysis integrated data on crime, education, and socioeconomic factors, revealing deep inequalities. While there is still room for exploration, we demonstrated how SQL can address complex, real-world challenges."
   ]
  },
  {
   "cell_type": "code",
   "execution_count": null,
   "id": "33bdd727",
   "metadata": {},
   "outputs": [
    {
     "name": "stdout",
     "output_type": "stream",
     "text": [
      "✅ Connection closed successfully\n"
     ]
    }
   ],
   "source": [
    "# We finish by closing the connection to the database\n",
    "try:\n",
    "    conn.close()\n",
    "    print(\"✅ Connection closed successfully\")\n",
    "except Exception as e:\n",
    "    print(f\"❌ Error closing connection: {e}\")\n"
   ]
  },
  {
   "cell_type": "markdown",
   "id": "828825c1",
   "metadata": {},
   "source": [
    "<br>"
   ]
  },
  {
   "cell_type": "markdown",
   "id": "24871918",
   "metadata": {},
   "source": [
    "<hr>"
   ]
  },
  {
   "cell_type": "markdown",
   "id": "f58084d6",
   "metadata": {},
   "source": [
    "## Author\n",
    "\n",
    "<a href=\"https://www.linkedin.com/in/flavio-aguirre-12784a252/\">**Flavio Aguirre**</a>\n",
    "<br>\n",
    "<a href=\"https://coursera.org/share/e27ae5af81b56f99a2aa85289b7cdd04\">***Data Scientist***</a>"
   ]
  }
 ],
 "metadata": {
  "kernelspec": {
   "display_name": ".venv",
   "language": "python",
   "name": "python3"
  },
  "language_info": {
   "codemirror_mode": {
    "name": "ipython",
    "version": 3
   },
   "file_extension": ".py",
   "mimetype": "text/x-python",
   "name": "python",
   "nbconvert_exporter": "python",
   "pygments_lexer": "ipython3",
   "version": "3.12.3"
  }
 },
 "nbformat": 4,
 "nbformat_minor": 5
}
